{
 "cells": [
  {
   "cell_type": "markdown",
   "id": "automotive-abuse",
   "metadata": {},
   "source": [
    "## IPL Predictions (Sports Analysis)\n",
    "\n",
    "This dataset contains the results of every Cricket match in IPL since 2008 till 2017. \\\n",
    "We will try to gain insights from the data and we shall try to predict the first innings score"
   ]
  },
  {
   "cell_type": "code",
   "execution_count": null,
   "id": "dental-violation",
   "metadata": {},
   "outputs": [],
   "source": []
  }
 ],
 "metadata": {
  "kernelspec": {
   "display_name": "Python 3",
   "language": "python",
   "name": "python3"
  },
  "language_info": {
   "codemirror_mode": {
    "name": "ipython",
    "version": 3
   },
   "file_extension": ".py",
   "mimetype": "text/x-python",
   "name": "python",
   "nbconvert_exporter": "python",
   "pygments_lexer": "ipython3",
   "version": "3.6.12"
  }
 },
 "nbformat": 4,
 "nbformat_minor": 5
}
