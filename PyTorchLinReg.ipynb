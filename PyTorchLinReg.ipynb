{
 "cells": [
  {
   "cell_type": "markdown",
   "metadata": {},
   "source": [
    "# Linear Regression using PyTorch"
   ]
  },
  {
   "cell_type": "markdown",
   "metadata": {},
   "source": [
    "In this notebook, we will try to create a Linear Regression Model using PyTorch.\\\n",
    "We will create the dataset, and also make a customized class for our model.\n",
    "\n",
    "We will use the Backpropagation Algorithm and builtin PyTorch SGD optimizer for our operations.\\\n",
    "We shall also try to plot the trained model."
   ]
  },
  {
   "cell_type": "code",
   "execution_count": 1,
   "metadata": {},
   "outputs": [],
   "source": [
    "# Import the libraries\n",
    "import torch\n",
    "import torch.nn as nn\n",
    "import numpy as np\n",
    "from sklearn import datasets\n",
    "import matplotlib.pyplot as plt\n",
    "%matplotlib inline"
   ]
  },
  {
   "cell_type": "code",
   "execution_count": 2,
   "metadata": {},
   "outputs": [],
   "source": [
    "# create dataset\n",
    "x_np, y_np = datasets.make_regression(200, 1, noise=25, random_state=365)"
   ]
  },
  {
   "cell_type": "code",
   "execution_count": 3,
   "metadata": {},
   "outputs": [],
   "source": [
    "# convert data into Torch tensors\n",
    "X = torch.from_numpy(x_np.astype(np.float32))\n",
    "Y = torch.from_numpy(y_np.astype(np.float32))\n",
    "\n",
    "# reshape the Y values into column vector\n",
    "Y = Y.view(Y.shape[0], 1)\n",
    "\n",
    "n_samples, n_features = X.shape"
   ]
  },
  {
   "cell_type": "code",
   "execution_count": 4,
   "metadata": {},
   "outputs": [],
   "source": [
    "# Build Custom Model\n",
    "class LinearRegression(nn.Module):\n",
    "    \n",
    "    def __init__(self, inp_dim, out_dim):\n",
    "        super(LinearRegression, self).__init__()\n",
    "        self.linreg = nn.Linear(inp_dim, out_dim)\n",
    "        \n",
    "    def forward(self, x):\n",
    "        return self.linreg(x)\n",
    "\n",
    "model = LinearRegression(n_features, 1)"
   ]
  },
  {
   "cell_type": "code",
   "execution_count": 5,
   "metadata": {},
   "outputs": [],
   "source": [
    "# Selecting Loss Function and Optimizer\n",
    "learning_rate = 0.033\n",
    "n_iter = 140\n",
    "\n",
    "criteria = nn.MSELoss()\n",
    "optimizer = torch.optim.SGD(model.parameters(), lr=learning_rate)"
   ]
  },
  {
   "cell_type": "code",
   "execution_count": 6,
   "metadata": {},
   "outputs": [
    {
     "name": "stdout",
     "output_type": "stream",
     "text": [
      "epoch 10: loss=2365.38770 \n",
      "epoch 20: loss=1163.07129 \n",
      "epoch 30: loss=830.98743 \n",
      "epoch 40: loss=739.25482 \n",
      "epoch 50: loss=713.91284 \n",
      "epoch 60: loss=706.91095 \n",
      "epoch 70: loss=704.97626 \n",
      "epoch 80: loss=704.44177 \n",
      "epoch 90: loss=704.29407 \n",
      "epoch 100: loss=704.25305 \n",
      "epoch 110: loss=704.24170 \n",
      "epoch 120: loss=704.23859 \n",
      "epoch 130: loss=704.23773 \n",
      "epoch 140: loss=704.23767 \n"
     ]
    }
   ],
   "source": [
    "# Training model\n",
    "for epoch in range(n_iter):\n",
    "    \n",
    "    # forward prop\n",
    "    y_pred = model(X)\n",
    "    loss = criteria(y_pred, Y)\n",
    "    \n",
    "    # backward prop\n",
    "    loss.backward()\n",
    "    \n",
    "    # update parms\n",
    "    optimizer.step()\n",
    "    optimizer.zero_grad()\n",
    "    \n",
    "    # print training data\n",
    "    if (epoch+1)%10 == 0:\n",
    "        print(f\"epoch {epoch+1}: loss={loss.item():.5f} \")"
   ]
  },
  {
   "cell_type": "code",
   "execution_count": 7,
   "metadata": {},
   "outputs": [
    {
     "data": {
      "text/plain": [
       "Text(0.5, 1.0, 'Linear Regression Plot')"
      ]
     },
     "execution_count": 7,
     "metadata": {},
     "output_type": "execute_result"
    },
    {
     "data": {
      "image/png": "[encoded data removed]",
      "text/plain": [
       "<Figure size 432x288 with 1 Axes>"
      ]
     },
     "metadata": {
      "needs_background": "light"
     },
     "output_type": "display_data"
    }
   ],
   "source": [
    "# Plot regression data\n",
    "results = model(X).detach()\n",
    "\n",
    "plt.plot(x_np, y_np, \"mo\")\n",
    "plt.plot(x_np, results, \"c\")\n",
    "plt.title(\"Linear Regression Plot\")"
   ]
  },
  {
   "cell_type": "code",
   "execution_count": null,
   "metadata": {},
   "outputs": [],
   "source": []
  }
 ],
 "metadata": {
  "kernelspec": {
   "display_name": "Python 3",
   "language": "python",
   "name": "python3"
  },
  "language_info": {
   "codemirror_mode": {
    "name": "ipython",
    "version": 3
   },
   "file_extension": ".py",
   "mimetype": "text/x-python",
   "name": "python",
   "nbconvert_exporter": "python",
   "pygments_lexer": "ipython3",
   "version": "3.8.3"
  }
 },
 "nbformat": 4,
 "nbformat_minor": 4
}
