{
 "cells": [
  {
   "cell_type": "markdown",
   "metadata": {},
   "source": [
    "# Feed Forward Neural Network\n",
    "\n",
    "In this notebook, we will perform a multi-layer feed-forward Neural Network using the MNIST dataset.\\\n",
    "This this we will perform:\n",
    "- MNIST dataset\n",
    "- DataLoader, Transformation\n",
    "- Multi-layer Neural Network, Activation Functions\n",
    "- Loss and Optimizer\n",
    "- Batch Training \n",
    "- Model Evaluation and Accuracy\n",
    "- GPU support"
   ]
  },
  {
   "cell_type": "code",
   "execution_count": 1,
   "metadata": {},
   "outputs": [],
   "source": [
    "# import the libraries\n",
    "import torch\n",
    "import torch.nn as nn\n",
    "import torchvision\n",
    "import torchvision.transforms as transforms\n",
    "import matplotlib.pyplot as plt"
   ]
  },
  {
   "cell_type": "code",
   "execution_count": 2,
   "metadata": {},
   "outputs": [],
   "source": [
    "# device config\n",
    "device = torch.device(\"cuda\" if torch.cuda.is_available() else \"cpu\")"
   ]
  },
  {
   "cell_type": "code",
   "execution_count": 3,
   "metadata": {},
   "outputs": [],
   "source": [
    "# hyperparameters\n",
    "input_size = 784 # 28x28\n",
    "hidden_size = 100\n",
    "n_classes = 10\n",
    "n_epoch = 8\n",
    "batch_size = 100\n",
    "learning_rate = 0.001"
   ]
  },
  {
   "cell_type": "code",
   "execution_count": 4,
   "metadata": {},
   "outputs": [],
   "source": [
    "# import dataset\n",
    "train_dataset = torchvision.datasets.MNIST(root='./data', train=True,\n",
    "                                            transform=transforms.ToTensor(), download=True)\n",
    "test_dataset = torchvision.datasets.MNIST(root='./data', train=False,\n",
    "                                            transform=transforms.ToTensor())"
   ]
  },
  {
   "cell_type": "code",
   "execution_count": 5,
   "metadata": {},
   "outputs": [],
   "source": [
    "# prepare the data loader\n",
    "train_loader = torch.utils.data.DataLoader(dataset=train_dataset, batch_size=batch_size, shuffle=True)\n",
    "test_loader = torch.utils.data.DataLoader(dataset=test_dataset, batch_size=batch_size, shuffle=False)"
   ]
  },
  {
   "cell_type": "code",
   "execution_count": 6,
   "metadata": {},
   "outputs": [
    {
     "name": "stdout",
     "output_type": "stream",
     "text": [
      "torch.Size([100, 1, 28, 28]) torch.Size([100])\n"
     ]
    }
   ],
   "source": [
    "examples = iter(train_loader)\n",
    "samples, labels = examples.next()\n",
    "print(samples.shape, labels.shape)"
   ]
  },
  {
   "cell_type": "code",
   "execution_count": 7,
   "metadata": {},
   "outputs": [
    {
     "data": {
      "image/png": "[encoded data removed]",
      "text/plain": [
       "<Figure size 432x288 with 6 Axes>"
      ]
     },
     "metadata": {
      "needs_background": "light"
     },
     "output_type": "display_data"
    }
   ],
   "source": [
    "# plot a few samples\n",
    "for i in range(6):\n",
    "    plt.subplot(2, 3, i+1)\n",
    "    plt.imshow(samples[i][0], cmap='gray')\n",
    "plt.show()"
   ]
  },
  {
   "cell_type": "code",
   "execution_count": 8,
   "metadata": {},
   "outputs": [],
   "source": [
    "# create a Neural Network\n",
    "class NeuralNet(nn.Module):\n",
    "    def __init__(self, input_size, hidden_size, n_classes):\n",
    "        super(NeuralNet, self).__init__()\n",
    "        self.l1 = nn.Linear(input_size, hidden_size)\n",
    "        self.relu = nn.ReLU()\n",
    "        self.l2 = nn.Linear(hidden_size, n_classes)\n",
    "        \n",
    "    def forward(self, x):\n",
    "        out = self.l1(x)\n",
    "        out = self.relu(out)\n",
    "        out = self.l2(out)\n",
    "        return out\n",
    "\n",
    "model = NeuralNet(input_size, hidden_size, n_classes)"
   ]
  },
  {
   "cell_type": "code",
   "execution_count": 9,
   "metadata": {},
   "outputs": [],
   "source": [
    "# set the loss function and the optimizer\n",
    "criteria = nn.CrossEntropyLoss()\n",
    "optimizer = torch.optim.Adam(model.parameters(), lr=learning_rate)"
   ]
  },
  {
   "cell_type": "code",
   "execution_count": 10,
   "metadata": {},
   "outputs": [
    {
     "name": "stdout",
     "output_type": "stream",
     "text": [
      "epoch 1/8, step 100/600, loss = 0.4672\n",
      "epoch 1/8, step 200/600, loss = 0.3010\n",
      "epoch 1/8, step 300/600, loss = 0.3115\n",
      "epoch 1/8, step 400/600, loss = 0.1835\n",
      "epoch 1/8, step 500/600, loss = 0.2341\n",
      "epoch 1/8, step 600/600, loss = 0.3542\n",
      "epoch 2/8, step 100/600, loss = 0.1435\n",
      "epoch 2/8, step 200/600, loss = 0.1991\n",
      "epoch 2/8, step 300/600, loss = 0.2104\n",
      "epoch 2/8, step 400/600, loss = 0.1880\n",
      "epoch 2/8, step 500/600, loss = 0.0927\n",
      "epoch 2/8, step 600/600, loss = 0.0841\n",
      "epoch 3/8, step 100/600, loss = 0.1271\n",
      "epoch 3/8, step 200/600, loss = 0.0864\n",
      "epoch 3/8, step 300/600, loss = 0.1222\n",
      "epoch 3/8, step 400/600, loss = 0.1706\n",
      "epoch 3/8, step 500/600, loss = 0.1181\n",
      "epoch 3/8, step 600/600, loss = 0.1598\n",
      "epoch 4/8, step 100/600, loss = 0.1333\n",
      "epoch 4/8, step 200/600, loss = 0.0622\n",
      "epoch 4/8, step 300/600, loss = 0.0737\n",
      "epoch 4/8, step 400/600, loss = 0.0949\n",
      "epoch 4/8, step 500/600, loss = 0.1362\n",
      "epoch 4/8, step 600/600, loss = 0.0755\n",
      "epoch 5/8, step 100/600, loss = 0.1776\n",
      "epoch 5/8, step 200/600, loss = 0.0632\n",
      "epoch 5/8, step 300/600, loss = 0.0671\n",
      "epoch 5/8, step 400/600, loss = 0.0544\n",
      "epoch 5/8, step 500/600, loss = 0.0937\n",
      "epoch 5/8, step 600/600, loss = 0.0578\n",
      "epoch 6/8, step 100/600, loss = 0.0618\n",
      "epoch 6/8, step 200/600, loss = 0.0578\n",
      "epoch 6/8, step 300/600, loss = 0.0968\n",
      "epoch 6/8, step 400/600, loss = 0.1101\n",
      "epoch 6/8, step 500/600, loss = 0.0133\n",
      "epoch 6/8, step 600/600, loss = 0.0584\n",
      "epoch 7/8, step 100/600, loss = 0.0514\n",
      "epoch 7/8, step 200/600, loss = 0.0481\n",
      "epoch 7/8, step 300/600, loss = 0.0176\n",
      "epoch 7/8, step 400/600, loss = 0.0904\n",
      "epoch 7/8, step 500/600, loss = 0.0973\n",
      "epoch 7/8, step 600/600, loss = 0.0568\n",
      "epoch 8/8, step 100/600, loss = 0.0703\n",
      "epoch 8/8, step 200/600, loss = 0.1246\n",
      "epoch 8/8, step 300/600, loss = 0.0395\n",
      "epoch 8/8, step 400/600, loss = 0.1714\n",
      "epoch 8/8, step 500/600, loss = 0.1273\n",
      "epoch 8/8, step 600/600, loss = 0.0352\n"
     ]
    }
   ],
   "source": [
    "# training loop\n",
    "n_total_steps = len(train_loader)\n",
    "for epoch in range(n_epoch):\n",
    "    for i, (images, labels) in enumerate(train_loader):\n",
    "        images = images.reshape(-1, 28*28).to(device)\n",
    "        labels = labels.to(device)\n",
    "        \n",
    "        # forward pass\n",
    "        outputs = model(images)\n",
    "        loss = criteria(outputs, labels)\n",
    "        \n",
    "        # backward pass\n",
    "        optimizer.zero_grad()\n",
    "        loss.backward()\n",
    "        optimizer.step()\n",
    "        \n",
    "        if (i+1) % 100 == 0:\n",
    "            print(f\"epoch {epoch+1}/{n_epoch}, step {i+1}/{n_total_steps}, loss = {loss.item():.4f}\")\n",
    "        "
   ]
  },
  {
   "cell_type": "code",
   "execution_count": 12,
   "metadata": {},
   "outputs": [
    {
     "name": "stdout",
     "output_type": "stream",
     "text": [
      "Accuracy = 97.37\n"
     ]
    }
   ],
   "source": [
    "# test and evaluation\n",
    "with torch.no_grad():\n",
    "    n_correct = 0\n",
    "    n_samples = 0\n",
    "    for images, labels in test_loader:\n",
    "        images = images.reshape(-1, 28*28).to(device)\n",
    "        labels = labels.to(device)\n",
    "        \n",
    "        outputs = model(images)\n",
    "        # value, index\n",
    "        _, predictions = torch.max(outputs, 1)\n",
    "        n_samples += labels.shape[0]\n",
    "        n_correct += (predictions == labels).sum().item()\n",
    "    \n",
    "    acc = 100.0 * n_correct / n_samples\n",
    "    print(f\"Accuracy = {acc}\")"
   ]
  }
 ],
 "metadata": {
  "kernelspec": {
   "display_name": "Python 3",
   "language": "python",
   "name": "python3"
  },
  "language_info": {
   "codemirror_mode": {
    "name": "ipython",
    "version": 3
   },
   "file_extension": ".py",
   "mimetype": "text/x-python",
   "name": "python",
   "nbconvert_exporter": "python",
   "pygments_lexer": "ipython3",
   "version": "3.8.3"
  }
 },
 "nbformat": 4,
 "nbformat_minor": 4
}
