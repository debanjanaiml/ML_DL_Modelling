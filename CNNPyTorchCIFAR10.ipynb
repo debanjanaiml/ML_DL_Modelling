{
 "cells": [
  {
   "cell_type": "markdown",
   "metadata": {},
   "source": [
    "# Convolutional Neural Net with PyTorch\n",
    "\n",
    "In this notebook, we will implement the Conv Neural Net (CNN) using PyTorch to classify the CIFAR10 dataset."
   ]
  },
  {
   "cell_type": "code",
   "execution_count": 1,
   "metadata": {},
   "outputs": [],
   "source": [
    "# import the libraries\n",
    "import torch\n",
    "import torch.nn as nn\n",
    "import torch.nn.functional as F\n",
    "import torchvision\n",
    "import torchvision.transforms as transforms\n",
    "import matplotlib.pyplot as plt\n",
    "import numpy as np"
   ]
  },
  {
   "cell_type": "code",
   "execution_count": 2,
   "metadata": {},
   "outputs": [],
   "source": [
    "# device config\n",
    "device = torch.device(\"cuda\" if torch.cuda.is_available() else \"cpu\")"
   ]
  },
  {
   "cell_type": "code",
   "execution_count": 3,
   "metadata": {},
   "outputs": [],
   "source": [
    "# Hyper-parameters\n",
    "n_epoch = 80\n",
    "batch_size = 8\n",
    "learning_rate = 0.002\n",
    "momentum = 0.9"
   ]
  },
  {
   "cell_type": "code",
   "execution_count": 4,
   "metadata": {},
   "outputs": [],
   "source": [
    "# dataset has PILImage image of range [0, 1].\n",
    "# We transform them into Tensors of normalized range [-1, 1]\n",
    "transform = transforms.Compose(\n",
    "    [transforms.ToTensor(), \n",
    "     transforms.Normalize((0.5, 0.5, 0.5), (0.5, 0.5, 0.5))])"
   ]
  },
  {
   "cell_type": "code",
   "execution_count": 5,
   "metadata": {},
   "outputs": [
    {
     "name": "stdout",
     "output_type": "stream",
     "text": [
      "Files already downloaded and verified\n",
      "Files already downloaded and verified\n"
     ]
    }
   ],
   "source": [
    "# import dataset\n",
    "train_dataset = torchvision.datasets.CIFAR10(root='./data', train=True,\n",
    "                                            transform=transform, download=True)\n",
    "test_dataset = torchvision.datasets.CIFAR10(root='./data', train=False,\n",
    "                                            transform=transform, download=True)"
   ]
  },
  {
   "cell_type": "code",
   "execution_count": 6,
   "metadata": {},
   "outputs": [],
   "source": [
    "# prepare the data loader\n",
    "train_loader = torch.utils.data.DataLoader(dataset=train_dataset, batch_size=batch_size, shuffle=True)\n",
    "test_loader = torch.utils.data.DataLoader(dataset=test_dataset, batch_size=batch_size, shuffle=False)\n",
    "\n",
    "classes = ('plane', 'car', 'bird', 'cat', 'deer', \n",
    "           'dog', 'frog', 'horse', 'ship', 'truck')"
   ]
  },
  {
   "cell_type": "code",
   "execution_count": 7,
   "metadata": {},
   "outputs": [
    {
     "name": "stdout",
     "output_type": "stream",
     "text": [
      "torch.Size([8, 3, 32, 32]) torch.Size([8])\n"
     ]
    }
   ],
   "source": [
    "examples = iter(train_loader)\n",
    "samples, labels = examples.next()\n",
    "print(samples.shape, labels.shape)"
   ]
  },
  {
   "cell_type": "code",
   "execution_count": 8,
   "metadata": {},
   "outputs": [
    {
     "data": {
      "image/png": "[encoded data removed]",
      "text/plain": [
       "<Figure size 432x288 with 4 Axes>"
      ]
     },
     "metadata": {
      "needs_background": "light"
     },
     "output_type": "display_data"
    }
   ],
   "source": [
    "# plot a few samples\n",
    "for i in range(4):\n",
    "    plt.subplot(2, 2, i+1)\n",
    "    plt.imshow(samples[i][0], cmap='binary')\n",
    "plt.show()"
   ]
  },
  {
   "cell_type": "code",
   "execution_count": 9,
   "metadata": {},
   "outputs": [],
   "source": [
    "# implement conv net\n",
    "class ConvNet(nn.Module):\n",
    "    def __init__(self):\n",
    "        super(ConvNet, self).__init__()\n",
    "        self.conv1 = nn.Conv2d(in_channels=3, out_channels=6, kernel_size=5)\n",
    "        self.pool = nn.MaxPool2d(kernel_size=2, stride=2)\n",
    "        self.conv2 = nn.Conv2d(in_channels=6, out_channels=16, kernel_size=5)\n",
    "        self.fc1 = nn.Linear(in_features=16*5*5, out_features=100)\n",
    "        self.fc2 = nn.Linear(in_features=100, out_features=60)\n",
    "        self.fc3 = nn.Linear(in_features=60, out_features=10)\n",
    "        \n",
    "    def forward(self, x):\n",
    "        x = self.pool(F.relu(self.conv1(x)))\n",
    "        x = self.pool(F.relu(self.conv2(x)))\n",
    "        x = x.view(-1, 16*5*5)\n",
    "        x = F.relu(self.fc1(x))\n",
    "        x = F.relu(self.fc2(x))\n",
    "        x = self.fc3(x)\n",
    "        return x\n",
    "\n",
    "model = ConvNet().to(device)"
   ]
  },
  {
   "cell_type": "code",
   "execution_count": 10,
   "metadata": {},
   "outputs": [],
   "source": [
    "# set the loss function and the optimizer\n",
    "criteria = nn.CrossEntropyLoss()\n",
    "optimizer = torch.optim.SGD(model.parameters(), lr=learning_rate, momentum=momentum)"
   ]
  },
  {
   "cell_type": "code",
   "execution_count": 11,
   "metadata": {},
   "outputs": [
    {
     "name": "stdout",
     "output_type": "stream",
     "text": [
      "epoch 1/80, step 2000/6250, loss = 1.6281\n",
      "epoch 1/80, step 4000/6250, loss = 1.5049\n",
      "epoch 1/80, step 6000/6250, loss = 1.9560\n",
      "epoch 2/80, step 2000/6250, loss = 1.1705\n",
      "epoch 2/80, step 4000/6250, loss = 1.4657\n",
      "epoch 2/80, step 6000/6250, loss = 1.4479\n",
      "epoch 3/80, step 2000/6250, loss = 1.3069\n",
      "epoch 3/80, step 4000/6250, loss = 1.2849\n",
      "epoch 3/80, step 6000/6250, loss = 0.9168\n",
      "epoch 4/80, step 2000/6250, loss = 1.0744\n",
      "epoch 4/80, step 4000/6250, loss = 1.0082\n",
      "epoch 4/80, step 6000/6250, loss = 1.0103\n",
      "epoch 5/80, step 2000/6250, loss = 0.9627\n",
      "epoch 5/80, step 4000/6250, loss = 1.6524\n",
      "epoch 5/80, step 6000/6250, loss = 0.8734\n",
      "epoch 6/80, step 2000/6250, loss = 1.8021\n",
      "epoch 6/80, step 4000/6250, loss = 1.3351\n",
      "epoch 6/80, step 6000/6250, loss = 1.0388\n",
      "epoch 7/80, step 2000/6250, loss = 0.4221\n",
      "epoch 7/80, step 4000/6250, loss = 1.3026\n",
      "epoch 7/80, step 6000/6250, loss = 1.1453\n",
      "epoch 8/80, step 2000/6250, loss = 0.8146\n",
      "epoch 8/80, step 4000/6250, loss = 0.3949\n",
      "epoch 8/80, step 6000/6250, loss = 1.3136\n",
      "epoch 9/80, step 2000/6250, loss = 0.3936\n",
      "epoch 9/80, step 4000/6250, loss = 0.7993\n",
      "epoch 9/80, step 6000/6250, loss = 1.1651\n",
      "epoch 10/80, step 2000/6250, loss = 0.9305\n",
      "epoch 10/80, step 4000/6250, loss = 0.8044\n",
      "epoch 10/80, step 6000/6250, loss = 0.5937\n",
      "epoch 11/80, step 2000/6250, loss = 1.3305\n",
      "epoch 11/80, step 4000/6250, loss = 1.0616\n",
      "epoch 11/80, step 6000/6250, loss = 1.2603\n",
      "epoch 12/80, step 2000/6250, loss = 0.4485\n",
      "epoch 12/80, step 4000/6250, loss = 0.6713\n",
      "epoch 12/80, step 6000/6250, loss = 0.8250\n",
      "epoch 13/80, step 2000/6250, loss = 0.6202\n",
      "epoch 13/80, step 4000/6250, loss = 0.5905\n",
      "epoch 13/80, step 6000/6250, loss = 0.4917\n",
      "epoch 14/80, step 2000/6250, loss = 0.6222\n",
      "epoch 14/80, step 4000/6250, loss = 1.5509\n",
      "epoch 14/80, step 6000/6250, loss = 0.6935\n",
      "epoch 15/80, step 2000/6250, loss = 1.3645\n",
      "epoch 15/80, step 4000/6250, loss = 0.7713\n",
      "epoch 15/80, step 6000/6250, loss = 0.7775\n",
      "epoch 16/80, step 2000/6250, loss = 0.4627\n",
      "epoch 16/80, step 4000/6250, loss = 1.1259\n",
      "epoch 16/80, step 6000/6250, loss = 1.0347\n",
      "epoch 17/80, step 2000/6250, loss = 2.4043\n",
      "epoch 17/80, step 4000/6250, loss = 1.0969\n",
      "epoch 17/80, step 6000/6250, loss = 0.9443\n",
      "epoch 18/80, step 2000/6250, loss = 0.7344\n",
      "epoch 18/80, step 4000/6250, loss = 1.7121\n",
      "epoch 18/80, step 6000/6250, loss = 0.1907\n",
      "epoch 19/80, step 2000/6250, loss = 0.3006\n",
      "epoch 19/80, step 4000/6250, loss = 1.3734\n",
      "epoch 19/80, step 6000/6250, loss = 1.2447\n",
      "epoch 20/80, step 2000/6250, loss = 0.9403\n",
      "epoch 20/80, step 4000/6250, loss = 1.4672\n",
      "epoch 20/80, step 6000/6250, loss = 0.8051\n",
      "epoch 21/80, step 2000/6250, loss = 0.4363\n",
      "epoch 21/80, step 4000/6250, loss = 1.1820\n",
      "epoch 21/80, step 6000/6250, loss = 0.5728\n",
      "epoch 22/80, step 2000/6250, loss = 1.0569\n",
      "epoch 22/80, step 4000/6250, loss = 0.9790\n",
      "epoch 22/80, step 6000/6250, loss = 1.2506\n",
      "epoch 23/80, step 2000/6250, loss = 0.5474\n",
      "epoch 23/80, step 4000/6250, loss = 0.3621\n",
      "epoch 23/80, step 6000/6250, loss = 1.0869\n",
      "epoch 24/80, step 2000/6250, loss = 0.0541\n",
      "epoch 24/80, step 4000/6250, loss = 0.5563\n",
      "epoch 24/80, step 6000/6250, loss = 1.1146\n",
      "epoch 25/80, step 2000/6250, loss = 0.5655\n",
      "epoch 25/80, step 4000/6250, loss = 0.7659\n",
      "epoch 25/80, step 6000/6250, loss = 0.7006\n",
      "epoch 26/80, step 2000/6250, loss = 0.2739\n",
      "epoch 26/80, step 4000/6250, loss = 0.7304\n",
      "epoch 26/80, step 6000/6250, loss = 0.6846\n",
      "epoch 27/80, step 2000/6250, loss = 0.4199\n",
      "epoch 27/80, step 4000/6250, loss = 0.2416\n",
      "epoch 27/80, step 6000/6250, loss = 0.9302\n",
      "epoch 28/80, step 2000/6250, loss = 0.5505\n",
      "epoch 28/80, step 4000/6250, loss = 0.3313\n",
      "epoch 28/80, step 6000/6250, loss = 0.8302\n",
      "epoch 29/80, step 2000/6250, loss = 0.9521\n",
      "epoch 29/80, step 4000/6250, loss = 0.3544\n",
      "epoch 29/80, step 6000/6250, loss = 0.0679\n",
      "epoch 30/80, step 2000/6250, loss = 0.5648\n",
      "epoch 30/80, step 4000/6250, loss = 0.3059\n",
      "epoch 30/80, step 6000/6250, loss = 1.9199\n",
      "epoch 31/80, step 2000/6250, loss = 0.3582\n",
      "epoch 31/80, step 4000/6250, loss = 1.4177\n",
      "epoch 31/80, step 6000/6250, loss = 0.5624\n",
      "epoch 32/80, step 2000/6250, loss = 1.3433\n",
      "epoch 32/80, step 4000/6250, loss = 1.3406\n",
      "epoch 32/80, step 6000/6250, loss = 0.7594\n",
      "epoch 33/80, step 2000/6250, loss = 0.5747\n",
      "epoch 33/80, step 4000/6250, loss = 0.9923\n",
      "epoch 33/80, step 6000/6250, loss = 0.3122\n",
      "epoch 34/80, step 2000/6250, loss = 0.8761\n",
      "epoch 34/80, step 4000/6250, loss = 0.5941\n",
      "epoch 34/80, step 6000/6250, loss = 0.3823\n",
      "epoch 35/80, step 2000/6250, loss = 0.6781\n",
      "epoch 35/80, step 4000/6250, loss = 0.5934\n",
      "epoch 35/80, step 6000/6250, loss = 0.4382\n",
      "epoch 36/80, step 2000/6250, loss = 0.9177\n",
      "epoch 36/80, step 4000/6250, loss = 0.9807\n",
      "epoch 36/80, step 6000/6250, loss = 1.1906\n",
      "epoch 37/80, step 2000/6250, loss = 0.2150\n",
      "epoch 37/80, step 4000/6250, loss = 0.7727\n",
      "epoch 37/80, step 6000/6250, loss = 0.9726\n",
      "epoch 38/80, step 2000/6250, loss = 1.4717\n",
      "epoch 38/80, step 4000/6250, loss = 0.7249\n",
      "epoch 38/80, step 6000/6250, loss = 1.0733\n",
      "epoch 39/80, step 2000/6250, loss = 0.3630\n",
      "epoch 39/80, step 4000/6250, loss = 1.4112\n",
      "epoch 39/80, step 6000/6250, loss = 0.7625\n",
      "epoch 40/80, step 2000/6250, loss = 0.8099\n",
      "epoch 40/80, step 4000/6250, loss = 0.7896\n",
      "epoch 40/80, step 6000/6250, loss = 1.1301\n",
      "epoch 41/80, step 2000/6250, loss = 0.6452\n",
      "epoch 41/80, step 4000/6250, loss = 0.0150\n",
      "epoch 41/80, step 6000/6250, loss = 0.6282\n",
      "epoch 42/80, step 2000/6250, loss = 1.3346\n",
      "epoch 42/80, step 4000/6250, loss = 0.8865\n",
      "epoch 42/80, step 6000/6250, loss = 0.3466\n",
      "epoch 43/80, step 2000/6250, loss = 0.4560\n",
      "epoch 43/80, step 4000/6250, loss = 0.4504\n",
      "epoch 43/80, step 6000/6250, loss = 0.2241\n",
      "epoch 44/80, step 2000/6250, loss = 0.8952\n",
      "epoch 44/80, step 4000/6250, loss = 0.4835\n",
      "epoch 44/80, step 6000/6250, loss = 0.2059\n",
      "epoch 45/80, step 2000/6250, loss = 1.1530\n",
      "epoch 45/80, step 4000/6250, loss = 0.2660\n",
      "epoch 45/80, step 6000/6250, loss = 1.0283\n",
      "epoch 46/80, step 2000/6250, loss = 0.5131\n",
      "epoch 46/80, step 4000/6250, loss = 0.1788\n",
      "epoch 46/80, step 6000/6250, loss = 0.0930\n",
      "epoch 47/80, step 2000/6250, loss = 0.0769\n",
      "epoch 47/80, step 4000/6250, loss = 0.8729\n",
      "epoch 47/80, step 6000/6250, loss = 0.9196\n",
      "epoch 48/80, step 2000/6250, loss = 0.2868\n",
      "epoch 48/80, step 4000/6250, loss = 0.3788\n",
      "epoch 48/80, step 6000/6250, loss = 0.5665\n",
      "epoch 49/80, step 2000/6250, loss = 0.0415\n",
      "epoch 49/80, step 4000/6250, loss = 0.7437\n",
      "epoch 49/80, step 6000/6250, loss = 2.2979\n",
      "epoch 50/80, step 2000/6250, loss = 0.9989\n",
      "epoch 50/80, step 4000/6250, loss = 0.1779\n",
      "epoch 50/80, step 6000/6250, loss = 0.2436\n",
      "epoch 51/80, step 2000/6250, loss = 0.6105\n",
      "epoch 51/80, step 4000/6250, loss = 0.2290\n",
      "epoch 51/80, step 6000/6250, loss = 0.9039\n",
      "epoch 52/80, step 2000/6250, loss = 0.8317\n",
      "epoch 52/80, step 4000/6250, loss = 0.5919\n",
      "epoch 52/80, step 6000/6250, loss = 1.5127\n",
      "epoch 53/80, step 2000/6250, loss = 1.0189\n",
      "epoch 53/80, step 4000/6250, loss = 0.5896\n",
      "epoch 53/80, step 6000/6250, loss = 0.0321\n",
      "epoch 54/80, step 2000/6250, loss = 0.3400\n",
      "epoch 54/80, step 4000/6250, loss = 0.8688\n",
      "epoch 54/80, step 6000/6250, loss = 0.1510\n",
      "epoch 55/80, step 2000/6250, loss = 0.8420\n",
      "epoch 55/80, step 4000/6250, loss = 0.1560\n",
      "epoch 55/80, step 6000/6250, loss = 0.7969\n",
      "epoch 56/80, step 2000/6250, loss = 0.1135\n",
      "epoch 56/80, step 4000/6250, loss = 0.6131\n",
      "epoch 56/80, step 6000/6250, loss = 0.1385\n",
      "epoch 57/80, step 2000/6250, loss = 0.4042\n",
      "epoch 57/80, step 4000/6250, loss = 1.1150\n",
      "epoch 57/80, step 6000/6250, loss = 0.7429\n",
      "epoch 58/80, step 2000/6250, loss = 0.5504\n",
      "epoch 58/80, step 4000/6250, loss = 1.4279\n",
      "epoch 58/80, step 6000/6250, loss = 0.5943\n",
      "epoch 59/80, step 2000/6250, loss = 0.5820\n",
      "epoch 59/80, step 4000/6250, loss = 0.2645\n",
      "epoch 59/80, step 6000/6250, loss = 0.7077\n",
      "epoch 60/80, step 2000/6250, loss = 0.3370\n",
      "epoch 60/80, step 4000/6250, loss = 1.2078\n",
      "epoch 60/80, step 6000/6250, loss = 0.1968\n",
      "epoch 61/80, step 2000/6250, loss = 1.1929\n",
      "epoch 61/80, step 4000/6250, loss = 0.2872\n",
      "epoch 61/80, step 6000/6250, loss = 0.1771\n",
      "epoch 62/80, step 2000/6250, loss = 0.1207\n",
      "epoch 62/80, step 4000/6250, loss = 0.0626\n",
      "epoch 62/80, step 6000/6250, loss = 0.6954\n",
      "epoch 63/80, step 2000/6250, loss = 0.2039\n",
      "epoch 63/80, step 4000/6250, loss = 0.4611\n",
      "epoch 63/80, step 6000/6250, loss = 0.7021\n",
      "epoch 64/80, step 2000/6250, loss = 0.5381\n",
      "epoch 64/80, step 4000/6250, loss = 0.7159\n",
      "epoch 64/80, step 6000/6250, loss = 0.4375\n"
     ]
    },
    {
     "name": "stdout",
     "output_type": "stream",
     "text": [
      "epoch 65/80, step 2000/6250, loss = 0.9236\n",
      "epoch 65/80, step 4000/6250, loss = 0.4479\n",
      "epoch 65/80, step 6000/6250, loss = 0.3064\n",
      "epoch 66/80, step 2000/6250, loss = 0.6039\n",
      "epoch 66/80, step 4000/6250, loss = 0.4720\n",
      "epoch 66/80, step 6000/6250, loss = 0.5775\n",
      "epoch 67/80, step 2000/6250, loss = 0.3399\n",
      "epoch 67/80, step 4000/6250, loss = 1.2998\n",
      "epoch 67/80, step 6000/6250, loss = 0.1584\n",
      "epoch 68/80, step 2000/6250, loss = 0.4840\n",
      "epoch 68/80, step 4000/6250, loss = 0.5279\n",
      "epoch 68/80, step 6000/6250, loss = 0.4394\n",
      "epoch 69/80, step 2000/6250, loss = 1.1907\n",
      "epoch 69/80, step 4000/6250, loss = 0.9743\n",
      "epoch 69/80, step 6000/6250, loss = 1.3637\n",
      "epoch 70/80, step 2000/6250, loss = 1.5170\n",
      "epoch 70/80, step 4000/6250, loss = 0.8199\n",
      "epoch 70/80, step 6000/6250, loss = 0.4448\n",
      "epoch 71/80, step 2000/6250, loss = 0.3442\n",
      "epoch 71/80, step 4000/6250, loss = 0.9570\n",
      "epoch 71/80, step 6000/6250, loss = 0.6188\n",
      "epoch 72/80, step 2000/6250, loss = 1.0691\n",
      "epoch 72/80, step 4000/6250, loss = 1.0251\n",
      "epoch 72/80, step 6000/6250, loss = 0.7076\n",
      "epoch 73/80, step 2000/6250, loss = 0.3617\n",
      "epoch 73/80, step 4000/6250, loss = 0.3164\n",
      "epoch 73/80, step 6000/6250, loss = 0.1443\n",
      "epoch 74/80, step 2000/6250, loss = 0.6434\n",
      "epoch 74/80, step 4000/6250, loss = 0.9516\n",
      "epoch 74/80, step 6000/6250, loss = 1.0963\n",
      "epoch 75/80, step 2000/6250, loss = 0.8088\n",
      "epoch 75/80, step 4000/6250, loss = 1.2643\n",
      "epoch 75/80, step 6000/6250, loss = 0.4257\n",
      "epoch 76/80, step 2000/6250, loss = 1.2371\n",
      "epoch 76/80, step 4000/6250, loss = 0.9164\n",
      "epoch 76/80, step 6000/6250, loss = 0.9692\n",
      "epoch 77/80, step 2000/6250, loss = 0.6903\n",
      "epoch 77/80, step 4000/6250, loss = 0.2815\n",
      "epoch 77/80, step 6000/6250, loss = 0.4926\n",
      "epoch 78/80, step 2000/6250, loss = 0.3832\n",
      "epoch 78/80, step 4000/6250, loss = 0.8730\n",
      "epoch 78/80, step 6000/6250, loss = 0.8215\n",
      "epoch 79/80, step 2000/6250, loss = 0.1355\n",
      "epoch 79/80, step 4000/6250, loss = 0.4548\n",
      "epoch 79/80, step 6000/6250, loss = 0.2857\n",
      "epoch 80/80, step 2000/6250, loss = 0.6073\n",
      "epoch 80/80, step 4000/6250, loss = 0.4393\n",
      "epoch 80/80, step 6000/6250, loss = 0.5755\n",
      "Finished Training\n"
     ]
    },
    {
     "data": {
      "image/png": "[encoded data removed]",
      "text/plain": [
       "<Figure size 432x288 with 1 Axes>"
      ]
     },
     "metadata": {
      "needs_background": "light"
     },
     "output_type": "display_data"
    }
   ],
   "source": [
    "# training loop\n",
    "n_total_steps = len(train_loader)\n",
    "for epoch in range(n_epoch):\n",
    "    loss_list = []\n",
    "    for i, (images, labels) in enumerate(train_loader):\n",
    "        images = images.to(device)\n",
    "        labels = labels.to(device)\n",
    "        \n",
    "        # forward pass\n",
    "        outputs = model(images)\n",
    "        loss = criteria(outputs, labels)\n",
    "        \n",
    "        # backward pass\n",
    "        optimizer.zero_grad()\n",
    "        loss.backward()\n",
    "        optimizer.step()\n",
    "        \n",
    "        # generate data points for plotting\n",
    "        if ((epoch+1) % 20 == 0) and ((i+1) % 100 == 0):\n",
    "            loss_list.append(loss.item())\n",
    "        \n",
    "        if (i+1) % 2000 == 0:\n",
    "            print(f\"epoch {epoch+1}/{n_epoch}, step {i+1}/{n_total_steps}, loss = {loss.item():.4f}\")\n",
    "\n",
    "    if ((epoch+1) % 20 == 0):\n",
    "        plt.plot(loss_list, label=\"epoch\"+str(epoch+1))\n",
    "        plt.legend(loc=1, mode=\"expanded\", shadow=True, ncol=4)\n",
    "\n",
    "print(\"Finished Training\")\n",
    "plt.show()"
   ]
  },
  {
   "cell_type": "code",
   "execution_count": 12,
   "metadata": {},
   "outputs": [
    {
     "name": "stdout",
     "output_type": "stream",
     "text": [
      "Accuracy = 55.32\n"
     ]
    }
   ],
   "source": [
    "# test and evaluation\n",
    "with torch.no_grad():\n",
    "    n_correct = 0\n",
    "    n_samples = 0\n",
    "    n_class_correct = [0 for i in range(10)]\n",
    "    n_class_samples = [0 for i in range(10)]\n",
    "    for images, labels in test_loader:\n",
    "        images = images.to(device)\n",
    "        labels = labels.to(device)\n",
    "        \n",
    "        outputs = model(images)\n",
    "        # value, index\n",
    "        _, predictions = torch.max(outputs, 1)\n",
    "        n_samples += labels.size(0)\n",
    "        n_correct += (predictions == labels).sum().item()\n",
    "        \n",
    "        for i in range(batch_size):\n",
    "            label = labels[i]\n",
    "            pred = predictions[i]\n",
    "            if (label == pred):\n",
    "                n_class_correct[label] += 1\n",
    "            n_class_samples[label] += 1\n",
    "    \n",
    "    acc = 100.0 * n_correct / n_samples\n",
    "    print(f\"Accuracy = {acc}\")"
   ]
  },
  {
   "cell_type": "code",
   "execution_count": null,
   "metadata": {},
   "outputs": [],
   "source": []
  }
 ],
 "metadata": {
  "kernelspec": {
   "display_name": "Python 3",
   "language": "python",
   "name": "python3"
  },
  "language_info": {
   "codemirror_mode": {
    "name": "ipython",
    "version": 3
   },
   "file_extension": ".py",
   "mimetype": "text/x-python",
   "name": "python",
   "nbconvert_exporter": "python",
   "pygments_lexer": "ipython3",
   "version": "3.8.3"
  }
 },
 "nbformat": 4,
 "nbformat_minor": 4
}
